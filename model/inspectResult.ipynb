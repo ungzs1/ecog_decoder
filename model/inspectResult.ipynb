{
 "metadata": {
  "language_info": {
   "codemirror_mode": {
    "name": "ipython",
    "version": 3
   },
   "file_extension": ".py",
   "mimetype": "text/x-python",
   "name": "python",
   "nbconvert_exporter": "python",
   "pygments_lexer": "ipython3",
   "version": "3.8.8-final"
  },
  "orig_nbformat": 2,
  "kernelspec": {
   "name": "python385jvsc74a57bd062d543c443d68452fe1998d09f101d6e1ff0409b6e7d013f7611adf444b10b70",
   "display_name": "Python 3.8.8 64-bit ('ecog01': conda)"
  },
  "metadata": {
   "interpreter": {
    "hash": "62d543c443d68452fe1998d09f101d6e1ff0409b6e7d013f7611adf444b10b70"
   }
  }
 },
 "nbformat": 4,
 "nbformat_minor": 2,
 "cells": [
  {
   "cell_type": "code",
   "execution_count": 1,
   "metadata": {},
   "outputs": [],
   "source": [
    "import pickle\n",
    "from tabulate import tabulate"
   ]
  },
  {
   "cell_type": "code",
   "execution_count": 2,
   "metadata": {},
   "outputs": [],
   "source": [
    "with open('/media/ungzs10/F8426F05426EC7C8/Zsombi/MTA/ecog/trained_models/htnet_data/result_all_good/model_settings.pkl', 'rb') as f:\n",
    "    settings = pickle.load(f)\n",
    "\n",
    "with open('/media/ungzs10/F8426F05426EC7C8/Zsombi/MTA/ecog/trained_models/htnet_data/result_all_good/accs_all.pkl', 'rb') as f:\n",
    "    results = pickle.load(f)"
   ]
  },
  {
   "cell_type": "code",
   "execution_count": 3,
   "metadata": {},
   "outputs": [
    {
     "output_type": "stream",
     "name": "stdout",
     "text": [
      "EC01\n         single    baseline    greedy\n-----  --------  ----------  --------\ntrain      0.78        0.86      0.91\ntest       0.83        0.83      0.84\nEC02\n         single    baseline    greedy\n-----  --------  ----------  --------\ntrain      0.71        0.76      0.84\ntest       0.58        0.83      0.77\nEC03\n         single    baseline    greedy\n-----  --------  ----------  --------\ntrain      0.89        0.92      0.96\ntest       0.8         0.85      0.86\nEC04\n         single    baseline    greedy\n-----  --------  ----------  --------\ntrain      0.81        0.8       0.87\ntest       0.93        0.97      0.88\nEC05\n         single    baseline    greedy\n-----  --------  ----------  --------\ntrain      0.77        0.85      0.93\ntest       0.5         0.82      0.71\nEC06\n         single    baseline    greedy\n-----  --------  ----------  --------\ntrain       0.9        0.91      0.95\ntest        0.5        0.82      0.76\nEC07\n         single    baseline    greedy\n-----  --------  ----------  --------\ntrain      0.96        0.97      0.97\ntest       0.94        0.97      0.95\nEC08\n         single    baseline    greedy\n-----  --------  ----------  --------\ntrain      0.86        0.91      0.95\ntest       0.68        0.83      0.77\nEC09\n         single    baseline    greedy\n-----  --------  ----------  --------\ntrain      0.89        0.85      0.94\ntest       0.86        0.93      0.83\nEC10\n         single    baseline    greedy\n-----  --------  ----------  --------\ntrain      0.78        0.91      0.92\ntest       0.85        0.85      0.81\nEC11\n         single    baseline    greedy\n-----  --------  ----------  --------\ntrain      0.76        0.88      0.91\ntest       0.84        0.93      0.89\nEC12\n         single    baseline    greedy\n-----  --------  ----------  --------\ntrain      0.69        0.83      0.86\ntest       0.7         0.88      0.82\n"
     ]
    }
   ],
   "source": [
    "#print(results['EC02']['greedy'])\n",
    "\n",
    "for name in results.keys():\n",
    "    print(name)\n",
    "    result = results[name]\n",
    "    headers=['']\n",
    "    train_row=['train']\n",
    "    test_row=['test']\n",
    "    for trial in result.keys():\n",
    "        headers.append(trial)\n",
    "        if not trial =='greedy':\n",
    "            train_row.append(round(result[trial][0], 2))\n",
    "            test_row.append(round(result[trial][1], 2))\n",
    "        else:\n",
    "            train_row.append(round(result[trial][0][-1], 2))\n",
    "            test_row.append(round(result[trial][1][-1], 2))\n",
    "    table = tabulate([train_row, test_row], headers=headers)\n",
    "    print(table)"
   ]
  },
  {
   "cell_type": "code",
   "execution_count": null,
   "metadata": {},
   "outputs": [],
   "source": []
  }
 ]
}