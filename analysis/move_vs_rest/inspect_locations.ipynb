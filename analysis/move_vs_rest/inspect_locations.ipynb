{
 "cells": [
  {
   "cell_type": "code",
   "execution_count": 3,
   "metadata": {
    "collapsed": true
   },
   "outputs": [
    {
     "name": "stderr",
     "output_type": "stream",
     "text": [
      "/home/ungzs10/miniconda3/envs/ecog01/lib/python3.8/site-packages/nilearn/datasets/__init__.py:87: FutureWarning: Fetchers from the nilearn.datasets module will be updated in version 0.9 to return python strings instead of bytes and Pandas dataframes instead of Numpy arrays.\n",
      "  warn(\"Fetchers from the nilearn.datasets module will be \"\n"
     ]
    },
    {
     "name": "stdout",
     "output_type": "stream",
     "text": [
      "Automatically created module for IPython interactive environment\n"
     ]
    }
   ],
   "source": [
    "# Authors: Eric Larson <larson.eric.d@gmail.com>\n",
    "#          Chris Holdgraf <choldgraf@gmail.com>\n",
    "#\n",
    "# License: BSD (3-clause)\n",
    "\n",
    "import numpy as np\n",
    "import matplotlib.pyplot as plt\n",
    "from scipy.io import loadmat\n",
    "import pickle\n",
    "import seaborn as sns\n",
    "import mne\n",
    "import nilearn.plotting as nl\n",
    "import pandas as pd\n",
    "\n",
    "\n",
    "print(__doc__)"
   ]
  },
  {
   "cell_type": "code",
   "execution_count": 4,
   "metadata": {
    "pycharm": {
     "name": "#%%\n"
    }
   },
   "outputs": [],
   "source": [
    "pat_ids = {\n",
    "    'EC01':'a0f66459',\n",
    "    'EC02':'c95c1e82',\n",
    "    'EC03':'cb46fd46',\n",
    "    'EC04':'fcb01f7a',\n",
    "    'EC05':'ffb52f92',\n",
    "    'EC06':'b4ac1726',\n",
    "    'EC07':'f3b79359',\n",
    "    'EC08':'ec761078',\n",
    "    'EC09':'f0bbc9a9',\n",
    "    'EC10':'abdb496b',\n",
    "    'EC11':'ec168864',\n",
    "    'EC12':'b45e3f7b'\n",
    "}\n",
    "\n",
    "pats_ids_in = pat_ids.keys()\n"
   ]
  },
  {
   "cell_type": "code",
   "execution_count": 15,
   "metadata": {
    "pycharm": {
     "name": "#%%  Plot greedy selected\n"
    },
    "scrolled": false
   },
   "outputs": [
    {
     "name": "stderr",
     "output_type": "stream",
     "text": [
      "*c* argument looks like a single numeric RGB or RGBA sequence, which should be avoided as value-mapping will have precedence in case its length matches with *x* & *y*.  Please use the *color* keyword-argument or provide a 2-D array with a single row if you intend to specify the same RGB or RGBA value for all points.\n",
      "*c* argument looks like a single numeric RGB or RGBA sequence, which should be avoided as value-mapping will have precedence in case its length matches with *x* & *y*.  Please use the *color* keyword-argument or provide a 2-D array with a single row if you intend to specify the same RGB or RGBA value for all points.\n",
      "/home/ungzs10/miniconda3/envs/ecog01/lib/python3.8/site-packages/nilearn/plotting/displays.py:677: MatplotlibDeprecationWarning: Adding an axes using the same arguments as a previous axes currently reuses the earlier instance.  In a future version, a new instance will always be created and returned.  Meanwhile, this warning can be suppressed, and the future behavior ensured, by passing a unique label to each axes instance.\n",
      "  axes = figure.add_axes(axes)\n",
      "/home/ungzs10/miniconda3/envs/ecog01/lib/python3.8/site-packages/nilearn/plotting/displays.py:1243: MatplotlibDeprecationWarning: Adding an axes using the same arguments as a previous axes currently reuses the earlier instance.  In a future version, a new instance will always be created and returned.  Meanwhile, this warning can be suppressed, and the future behavior ensured, by passing a unique label to each axes instance.\n",
      "  ax = fh.add_axes([0.3 * index * (x1 - x0) + x0, y0,\n",
      "*c* argument looks like a single numeric RGB or RGBA sequence, which should be avoided as value-mapping will have precedence in case its length matches with *x* & *y*.  Please use the *color* keyword-argument or provide a 2-D array with a single row if you intend to specify the same RGB or RGBA value for all points.\n",
      "*c* argument looks like a single numeric RGB or RGBA sequence, which should be avoided as value-mapping will have precedence in case its length matches with *x* & *y*.  Please use the *color* keyword-argument or provide a 2-D array with a single row if you intend to specify the same RGB or RGBA value for all points.\n",
      "*c* argument looks like a single numeric RGB or RGBA sequence, which should be avoided as value-mapping will have precedence in case its length matches with *x* & *y*.  Please use the *color* keyword-argument or provide a 2-D array with a single row if you intend to specify the same RGB or RGBA value for all points.\n",
      "*c* argument looks like a single numeric RGB or RGBA sequence, which should be avoided as value-mapping will have precedence in case its length matches with *x* & *y*.  Please use the *color* keyword-argument or provide a 2-D array with a single row if you intend to specify the same RGB or RGBA value for all points.\n",
      "*c* argument looks like a single numeric RGB or RGBA sequence, which should be avoided as value-mapping will have precedence in case its length matches with *x* & *y*.  Please use the *color* keyword-argument or provide a 2-D array with a single row if you intend to specify the same RGB or RGBA value for all points.\n",
      "*c* argument looks like a single numeric RGB or RGBA sequence, which should be avoided as value-mapping will have precedence in case its length matches with *x* & *y*.  Please use the *color* keyword-argument or provide a 2-D array with a single row if you intend to specify the same RGB or RGBA value for all points.\n",
      "*c* argument looks like a single numeric RGB or RGBA sequence, which should be avoided as value-mapping will have precedence in case its length matches with *x* & *y*.  Please use the *color* keyword-argument or provide a 2-D array with a single row if you intend to specify the same RGB or RGBA value for all points.\n",
      "*c* argument looks like a single numeric RGB or RGBA sequence, which should be avoided as value-mapping will have precedence in case its length matches with *x* & *y*.  Please use the *color* keyword-argument or provide a 2-D array with a single row if you intend to specify the same RGB or RGBA value for all points.\n",
      "*c* argument looks like a single numeric RGB or RGBA sequence, which should be avoided as value-mapping will have precedence in case its length matches with *x* & *y*.  Please use the *color* keyword-argument or provide a 2-D array with a single row if you intend to specify the same RGB or RGBA value for all points.\n",
      "*c* argument looks like a single numeric RGB or RGBA sequence, which should be avoided as value-mapping will have precedence in case its length matches with *x* & *y*.  Please use the *color* keyword-argument or provide a 2-D array with a single row if you intend to specify the same RGB or RGBA value for all points.\n",
      "*c* argument looks like a single numeric RGB or RGBA sequence, which should be avoided as value-mapping will have precedence in case its length matches with *x* & *y*.  Please use the *color* keyword-argument or provide a 2-D array with a single row if you intend to specify the same RGB or RGBA value for all points.\n",
      "*c* argument looks like a single numeric RGB or RGBA sequence, which should be avoided as value-mapping will have precedence in case its length matches with *x* & *y*.  Please use the *color* keyword-argument or provide a 2-D array with a single row if you intend to specify the same RGB or RGBA value for all points.\n",
      "*c* argument looks like a single numeric RGB or RGBA sequence, which should be avoided as value-mapping will have precedence in case its length matches with *x* & *y*.  Please use the *color* keyword-argument or provide a 2-D array with a single row if you intend to specify the same RGB or RGBA value for all points.\n",
      "*c* argument looks like a single numeric RGB or RGBA sequence, which should be avoided as value-mapping will have precedence in case its length matches with *x* & *y*.  Please use the *color* keyword-argument or provide a 2-D array with a single row if you intend to specify the same RGB or RGBA value for all points.\n",
      "*c* argument looks like a single numeric RGB or RGBA sequence, which should be avoided as value-mapping will have precedence in case its length matches with *x* & *y*.  Please use the *color* keyword-argument or provide a 2-D array with a single row if you intend to specify the same RGB or RGBA value for all points.\n",
      "*c* argument looks like a single numeric RGB or RGBA sequence, which should be avoided as value-mapping will have precedence in case its length matches with *x* & *y*.  Please use the *color* keyword-argument or provide a 2-D array with a single row if you intend to specify the same RGB or RGBA value for all points.\n",
      "*c* argument looks like a single numeric RGB or RGBA sequence, which should be avoided as value-mapping will have precedence in case its length matches with *x* & *y*.  Please use the *color* keyword-argument or provide a 2-D array with a single row if you intend to specify the same RGB or RGBA value for all points.\n",
      "*c* argument looks like a single numeric RGB or RGBA sequence, which should be avoided as value-mapping will have precedence in case its length matches with *x* & *y*.  Please use the *color* keyword-argument or provide a 2-D array with a single row if you intend to specify the same RGB or RGBA value for all points.\n",
      "*c* argument looks like a single numeric RGB or RGBA sequence, which should be avoided as value-mapping will have precedence in case its length matches with *x* & *y*.  Please use the *color* keyword-argument or provide a 2-D array with a single row if you intend to specify the same RGB or RGBA value for all points.\n",
      "*c* argument looks like a single numeric RGB or RGBA sequence, which should be avoided as value-mapping will have precedence in case its length matches with *x* & *y*.  Please use the *color* keyword-argument or provide a 2-D array with a single row if you intend to specify the same RGB or RGBA value for all points.\n",
      "*c* argument looks like a single numeric RGB or RGBA sequence, which should be avoided as value-mapping will have precedence in case its length matches with *x* & *y*.  Please use the *color* keyword-argument or provide a 2-D array with a single row if you intend to specify the same RGB or RGBA value for all points.\n",
      "*c* argument looks like a single numeric RGB or RGBA sequence, which should be avoided as value-mapping will have precedence in case its length matches with *x* & *y*.  Please use the *color* keyword-argument or provide a 2-D array with a single row if you intend to specify the same RGB or RGBA value for all points.\n",
      "*c* argument looks like a single numeric RGB or RGBA sequence, which should be avoided as value-mapping will have precedence in case its length matches with *x* & *y*.  Please use the *color* keyword-argument or provide a 2-D array with a single row if you intend to specify the same RGB or RGBA value for all points.\n",
      "*c* argument looks like a single numeric RGB or RGBA sequence, which should be avoided as value-mapping will have precedence in case its length matches with *x* & *y*.  Please use the *color* keyword-argument or provide a 2-D array with a single row if you intend to specify the same RGB or RGBA value for all points.\n",
      "*c* argument looks like a single numeric RGB or RGBA sequence, which should be avoided as value-mapping will have precedence in case its length matches with *x* & *y*.  Please use the *color* keyword-argument or provide a 2-D array with a single row if you intend to specify the same RGB or RGBA value for all points.\n",
      "*c* argument looks like a single numeric RGB or RGBA sequence, which should be avoided as value-mapping will have precedence in case its length matches with *x* & *y*.  Please use the *color* keyword-argument or provide a 2-D array with a single row if you intend to specify the same RGB or RGBA value for all points.\n",
      "*c* argument looks like a single numeric RGB or RGBA sequence, which should be avoided as value-mapping will have precedence in case its length matches with *x* & *y*.  Please use the *color* keyword-argument or provide a 2-D array with a single row if you intend to specify the same RGB or RGBA value for all points.\n",
      "*c* argument looks like a single numeric RGB or RGBA sequence, which should be avoided as value-mapping will have precedence in case its length matches with *x* & *y*.  Please use the *color* keyword-argument or provide a 2-D array with a single row if you intend to specify the same RGB or RGBA value for all points.\n",
      "*c* argument looks like a single numeric RGB or RGBA sequence, which should be avoided as value-mapping will have precedence in case its length matches with *x* & *y*.  Please use the *color* keyword-argument or provide a 2-D array with a single row if you intend to specify the same RGB or RGBA value for all points.\n",
      "*c* argument looks like a single numeric RGB or RGBA sequence, which should be avoided as value-mapping will have precedence in case its length matches with *x* & *y*.  Please use the *color* keyword-argument or provide a 2-D array with a single row if you intend to specify the same RGB or RGBA value for all points.\n",
      "*c* argument looks like a single numeric RGB or RGBA sequence, which should be avoided as value-mapping will have precedence in case its length matches with *x* & *y*.  Please use the *color* keyword-argument or provide a 2-D array with a single row if you intend to specify the same RGB or RGBA value for all points.\n",
      "*c* argument looks like a single numeric RGB or RGBA sequence, which should be avoided as value-mapping will have precedence in case its length matches with *x* & *y*.  Please use the *color* keyword-argument or provide a 2-D array with a single row if you intend to specify the same RGB or RGBA value for all points.\n",
      "*c* argument looks like a single numeric RGB or RGBA sequence, which should be avoided as value-mapping will have precedence in case its length matches with *x* & *y*.  Please use the *color* keyword-argument or provide a 2-D array with a single row if you intend to specify the same RGB or RGBA value for all points.\n",
      "*c* argument looks like a single numeric RGB or RGBA sequence, which should be avoided as value-mapping will have precedence in case its length matches with *x* & *y*.  Please use the *color* keyword-argument or provide a 2-D array with a single row if you intend to specify the same RGB or RGBA value for all points.\n",
      "*c* argument looks like a single numeric RGB or RGBA sequence, which should be avoided as value-mapping will have precedence in case its length matches with *x* & *y*.  Please use the *color* keyword-argument or provide a 2-D array with a single row if you intend to specify the same RGB or RGBA value for all points.\n",
      "*c* argument looks like a single numeric RGB or RGBA sequence, which should be avoided as value-mapping will have precedence in case its length matches with *x* & *y*.  Please use the *color* keyword-argument or provide a 2-D array with a single row if you intend to specify the same RGB or RGBA value for all points.\n",
      "*c* argument looks like a single numeric RGB or RGBA sequence, which should be avoided as value-mapping will have precedence in case its length matches with *x* & *y*.  Please use the *color* keyword-argument or provide a 2-D array with a single row if you intend to specify the same RGB or RGBA value for all points.\n",
      "*c* argument looks like a single numeric RGB or RGBA sequence, which should be avoided as value-mapping will have precedence in case its length matches with *x* & *y*.  Please use the *color* keyword-argument or provide a 2-D array with a single row if you intend to specify the same RGB or RGBA value for all points.\n",
      "*c* argument looks like a single numeric RGB or RGBA sequence, which should be avoided as value-mapping will have precedence in case its length matches with *x* & *y*.  Please use the *color* keyword-argument or provide a 2-D array with a single row if you intend to specify the same RGB or RGBA value for all points.\n",
      "*c* argument looks like a single numeric RGB or RGBA sequence, which should be avoided as value-mapping will have precedence in case its length matches with *x* & *y*.  Please use the *color* keyword-argument or provide a 2-D array with a single row if you intend to specify the same RGB or RGBA value for all points.\n",
      "*c* argument looks like a single numeric RGB or RGBA sequence, which should be avoided as value-mapping will have precedence in case its length matches with *x* & *y*.  Please use the *color* keyword-argument or provide a 2-D array with a single row if you intend to specify the same RGB or RGBA value for all points.\n",
      "*c* argument looks like a single numeric RGB or RGBA sequence, which should be avoided as value-mapping will have precedence in case its length matches with *x* & *y*.  Please use the *color* keyword-argument or provide a 2-D array with a single row if you intend to specify the same RGB or RGBA value for all points.\n",
      "*c* argument looks like a single numeric RGB or RGBA sequence, which should be avoided as value-mapping will have precedence in case its length matches with *x* & *y*.  Please use the *color* keyword-argument or provide a 2-D array with a single row if you intend to specify the same RGB or RGBA value for all points.\n",
      "*c* argument looks like a single numeric RGB or RGBA sequence, which should be avoided as value-mapping will have precedence in case its length matches with *x* & *y*.  Please use the *color* keyword-argument or provide a 2-D array with a single row if you intend to specify the same RGB or RGBA value for all points.\n",
      "*c* argument looks like a single numeric RGB or RGBA sequence, which should be avoided as value-mapping will have precedence in case its length matches with *x* & *y*.  Please use the *color* keyword-argument or provide a 2-D array with a single row if you intend to specify the same RGB or RGBA value for all points.\n",
      "*c* argument looks like a single numeric RGB or RGBA sequence, which should be avoided as value-mapping will have precedence in case its length matches with *x* & *y*.  Please use the *color* keyword-argument or provide a 2-D array with a single row if you intend to specify the same RGB or RGBA value for all points.\n"
     ]
    }
   ],
   "source": [
    "lp_base = '/media/ungzs10/F8426F05426EC7C8/Zsombi/MTA/ecog/trained_models/svm/HTNet_data/cikk/64_grid/'\n",
    "#lp = 'cikk/all_features_greedy/accs_all.pkl'\n",
    "#lp = 'cikk/64_grid_decreased_ranges/accs_all.pkl'\n",
    "lp = 'accs_all.pkl'\n",
    "\n",
    "file = open(lp_base+lp, 'rb')\n",
    "res_all = pickle.load(file)\n",
    "file.close()\n",
    "\n",
    "for i, pat_id in enumerate(pat_ids):\n",
    "#for i, pat_id in enumerate(['EC01']):\n",
    "    file = '/media/ungzs10/F8426F05426EC7C8/Zsombi/MTA/ecog/data/raw_data/naturalistic_move_v_rest/electrode_locations/ecog_metadata_{}.csv'.format(pat_ids[pat_id])\n",
    "    df = pd.read_csv(file)\n",
    "    ch_names = df['Unnamed: 0'].values.tolist()\n",
    "    elec = np.asarray([[x,y,z] for x,y,z in zip(df['X'], df['Y'], df['Z'])])\n",
    "\n",
    "    selected_elecs = res_all[pat_id]['greedy'][2]\n",
    "    elec_all = elec[:63, :]\n",
    "    elec_selected = elec[selected_elecs,:]\n",
    "\n",
    "    nl.plot_connectome(adjacency_matrix=np.eye(elec_all.shape[0]),\n",
    "                   node_coords=elec_all,\n",
    "                   node_size=30,\n",
    "                   node_color=sns.color_palette('deep')[7],\n",
    "                   title='patient: ' + pat_id,\n",
    "                   figure=i,\n",
    "                   display_mode='xz',\n",
    "                   )\n",
    "    nl.plot_connectome(adjacency_matrix=np.eye(elec_selected.shape[0]),\n",
    "                       node_coords=elec_selected,\n",
    "                       node_color=sns.color_palette('deep')[3],\n",
    "                       node_size=50,\n",
    "                       title='patient: ' + pat_id,\n",
    "                       figure=i,\n",
    "                       display_mode='xz',\n",
    "                       output_file='/media/ungzs10/F8426F05426EC7C8/Zsombi/MTA/ecog/analysis/move_vs_rest/figs/greedy_selected/{}.png'.format(pat_id)\n",
    "                       )"
   ]
  },
  {
   "cell_type": "code",
   "execution_count": 6,
   "outputs": [
    {
     "name": "stdout",
     "output_type": "stream",
     "text": [
      "(0.8666666666666667, 0.5176470588235295, 0.3215686274509804)\n"
     ]
    },
    {
     "data": {
      "text/plain": "<Figure size 720x72 with 1 Axes>",
      "image/png": "[encoded data removed]"
     },
     "metadata": {
      "needs_background": "light"
     },
     "output_type": "display_data"
    },
    {
     "data": {
      "text/plain": "<Figure size 720x72 with 1 Axes>",
      "image/png": "[encoded data removed]"
     },
     "metadata": {
      "needs_background": "light"
     },
     "output_type": "display_data"
    },
    {
     "data": {
      "text/plain": "<Figure size 720x72 with 1 Axes>",
      "image/png": "[encoded data removed]"
     },
     "metadata": {
      "needs_background": "light"
     },
     "output_type": "display_data"
    },
    {
     "data": {
      "text/plain": "<Figure size 720x72 with 1 Axes>",
      "image/png": "[encoded data removed]"
     },
     "metadata": {
      "needs_background": "light"
     },
     "output_type": "display_data"
    }
   ],
   "source": [
    "sns.palplot(sns.color_palette('pastel'))\n",
    "sns.palplot(sns.color_palette('deep'))\n",
    "print(sns.color_palette('deep')[1])\n",
    "sns.palplot(sns.color_palette('bright'))\n",
    "sns.palplot(sns.color_palette())"
   ],
   "metadata": {
    "collapsed": false,
    "pycharm": {
     "name": "#%%\n"
    }
   }
  },
  {
   "cell_type": "code",
   "execution_count": 10,
   "outputs": [
    {
     "data": {
      "text/plain": "\"\\n# read accuracies from file\\nfile = open('/media/ungzs10/F8426F05426EC7C8/Zsombi/MTA/ecog/trained_models/svm/HTNet_data/del/accs_all.pkl', 'rb')\\nres_all = pickle.load(file)\\nfile.close()\\n\\n# plot with color\\nfor pat_id in pat_ids:\\n    # read electrode locations from file\\n    file = '/media/ungzs10/F8426F05426EC7C8/Zsombi/MTA/ecog/data/raw_data/naturalistic_move_v_rest/electrode_locations/ecog_metadata_{}.csv'.format(pat_ids[pat_id])\\n    df = pd.read_csv(file)\\n    ch_names = df['Unnamed: 0'].values.tolist()\\n    elec = np.asarray([[x,y,z] for x,y,z in zip(df['X'], df['Y'], df['Z'])])\\n\\n    # select electrodes by hand\\n    selected_elecs = [0,1,2,3,4,5,6,7,8]\\n    elec_temp = elec[selected_elecs,:]\\n\\n    nl.plot_connectome(adjacency_matrix=np.eye(elec_temp.shape[0]),\\n                       node_coords=elec_temp,\\n                       title=pat_id+' channels: '+str(len(selected_elecs))+' acc: '\\n                             +str(round(res_all[pat_id]['greedy'][1][-1], 2))\\n                       )\\n\""
     },
     "execution_count": 10,
     "metadata": {},
     "output_type": "execute_result"
    }
   ],
   "source": [
    "'''\n",
    "# read accuracies from file\n",
    "file = open('/media/ungzs10/F8426F05426EC7C8/Zsombi/MTA/ecog/trained_models/svm/HTNet_data/del/accs_all.pkl', 'rb')\n",
    "res_all = pickle.load(file)\n",
    "file.close()\n",
    "\n",
    "# plot with color\n",
    "for pat_id in pat_ids:\n",
    "    # read electrode locations from file\n",
    "    file = '/media/ungzs10/F8426F05426EC7C8/Zsombi/MTA/ecog/data/raw_data/naturalistic_move_v_rest/electrode_locations/ecog_metadata_{}.csv'.format(pat_ids[pat_id])\n",
    "    df = pd.read_csv(file)\n",
    "    ch_names = df['Unnamed: 0'].values.tolist()\n",
    "    elec = np.asarray([[x,y,z] for x,y,z in zip(df['X'], df['Y'], df['Z'])])\n",
    "\n",
    "    # select electrodes by hand\n",
    "    selected_elecs = [0,1,2,3,4,5,6,7,8]\n",
    "    elec_temp = elec[selected_elecs,:]\n",
    "\n",
    "    nl.plot_connectome(adjacency_matrix=np.eye(elec_temp.shape[0]),\n",
    "                       node_coords=elec_temp,\n",
    "                       title=pat_id+' channels: '+str(len(selected_elecs))+' acc: '\n",
    "                             +str(round(res_all[pat_id]['greedy'][1][-1], 2))\n",
    "                       )\n",
    "'''"
   ],
   "metadata": {
    "collapsed": false,
    "pycharm": {
     "name": "#%%  Plot randomly selected\n"
    }
   }
  },
  {
   "cell_type": "code",
   "execution_count": 22,
   "metadata": {
    "pycharm": {
     "name": "#%% PLOT ALL\n"
    },
    "scrolled": false,
    "slideshow": {
     "slide_type": "slide"
    }
   },
   "outputs": [
    {
     "name": "stderr",
     "output_type": "stream",
     "text": [
      "/home/ungzs10/miniconda3/envs/ecog01/lib/python3.8/site-packages/nilearn/plotting/displays.py:677: MatplotlibDeprecationWarning: Adding an axes using the same arguments as a previous axes currently reuses the earlier instance.  In a future version, a new instance will always be created and returned.  Meanwhile, this warning can be suppressed, and the future behavior ensured, by passing a unique label to each axes instance.\n",
      "  axes = figure.add_axes(axes)\n",
      "/home/ungzs10/miniconda3/envs/ecog01/lib/python3.8/site-packages/nilearn/plotting/displays.py:1243: MatplotlibDeprecationWarning: Adding an axes using the same arguments as a previous axes currently reuses the earlier instance.  In a future version, a new instance will always be created and returned.  Meanwhile, this warning can be suppressed, and the future behavior ensured, by passing a unique label to each axes instance.\n",
      "  ax = fh.add_axes([0.3 * index * (x1 - x0) + x0, y0,\n"
     ]
    }
   ],
   "source": [
    "file = open('/media/ungzs10/F8426F05426EC7C8/Zsombi/MTA/ecog/trained_models/svm/HTNet_data/single_features/accs_all.pkl', 'rb')\n",
    "res_all = pickle.load(file)\n",
    "file.close()\n",
    "\n",
    "for i, pat_id in enumerate(pat_ids):\n",
    "#for i, pat_id in enumerate(['EC07']):\n",
    "    file = '/media/ungzs10/F8426F05426EC7C8/Zsombi/MTA/ecog/data/raw_data/naturalistic_move_v_rest/electrode_locations/ecog_metadata_{}.csv'.format(pat_ids[pat_id])\n",
    "    df = pd.read_csv(file)\n",
    "    ch_names = df['Unnamed: 0'].values.tolist()\n",
    "    elec = np.asarray([[x,y,z] for x,y,z in zip(df['X'], df['Y'], df['Z'])])\n",
    "    elec = elec[:64,:]\n",
    "\n",
    "    #selected_elecs = res_all[pat_id]['greedy'][2]\n",
    "    #elec_temp = elec[selected_elecs,:]\n",
    "    weights = [res for res in res_all[pat_id]['all_features']['test']['result']]\n",
    "    #weights = np.asarray(weights)\n",
    "    #norm = np.linalg.norm(weights)\n",
    "    #weights_norm = weights/norm\n",
    "    color = [[w, 0, 0, 1] for w in weights]\n",
    "    while len(weights) < len(ch_names):\n",
    "        color.append([0,0,0,1])\n",
    "        weights.append(0)\n",
    "        #print(pat_id)\n",
    "\n",
    "    '''nl.plot_connectome(adjacency_matrix=np.eye(elec.shape[0]),\n",
    "                       node_coords=elec,\n",
    "                       node_color=weights[:64],\n",
    "                       title=pat_id)'''\n",
    "    nl.plot_connectome(adjacency_matrix=np.eye(elec.shape[0]),\n",
    "                   node_coords=elec,\n",
    "                   node_size=40,\n",
    "                   alpha=.4,\n",
    "                   display_mode='xz',\n",
    "                   node_color='grey',\n",
    "                   figure=i,\n",
    "                   )\n",
    "\n",
    "    nl.plot_markers(#adjacency_matrix=np.eye(elec.shape[0]),\n",
    "                node_coords=elec,\n",
    "                node_values=weights[:64],\n",
    "                node_size=30,\n",
    "                display_mode='xz',\n",
    "                alpha=1,\n",
    "                #node_cmap='Spectral',\n",
    "                #node_cmap=sns.color_palette(\"OrRd\", as_cmap=True),\n",
    "                node_cmap=sns.light_palette(sns.color_palette('deep')[3],\n",
    "                                            n_colors=20,\n",
    "                                            reverse=False, as_cmap=True,\n",
    "                                            input='rgb'),\n",
    "                figure=i,\n",
    "                title='patient ID: '+pat_id,\n",
    "                output_file='/media/ungzs10/F8426F05426EC7C8/Zsombi/MTA/ecog/analysis/move_vs_rest/figs/single_ch_acc/single_{}.png'.format(pat_id),\n",
    "                #colorbar=True)\n",
    "    )\n",
    "\n"
   ]
  }
 ],
 "metadata": {
  "celltoolbar": "Slideshow",
  "kernelspec": {
   "display_name": "Python 3",
   "language": "python",
   "name": "python3"
  },
  "language_info": {
   "codemirror_mode": {
    "name": "ipython",
    "version": 3
   },
   "file_extension": ".py",
   "mimetype": "text/x-python",
   "name": "python",
   "nbconvert_exporter": "python",
   "pygments_lexer": "ipython3",
   "version": "3.8.8"
  }
 },
 "nbformat": 4,
 "nbformat_minor": 1
}