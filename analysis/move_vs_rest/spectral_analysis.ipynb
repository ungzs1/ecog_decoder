{
 "cells": [
  {
   "cell_type": "code",
   "execution_count": 1,
   "metadata": {},
   "outputs": [],
   "source": [
    "import h5py\n",
    "import numpy as np\n",
    "import matplotlib.pyplot as plt\n",
    "import os\n",
    "import pandas as pd\n",
    "import seaborn as sns\n",
    "\n",
    "base_path = os.getcwd()\n",
    "\n",
    "#plt.rcParams.update({'font.size': 10, 'font.family':'Times New Roman'})\n",
    "\n",
    "#plt.style.use('seaborn')\n",
    "\n",
    "tex_fonts = {\n",
    "    # Use LaTeX to write all text\n",
    "    \"text.usetex\": False,\n",
    "    \"font.family\": 'Times New Roman',\n",
    "    # Use 10pt font in plots, to match 10pt font in document\n",
    "    \"axes.labelsize\": 10,\n",
    "    \"font.size\": 10,\n",
    "    # Make the legend/label fonts a little smaller\n",
    "    \"legend.fontsize\": 8,\n",
    "    \"xtick.labelsize\": 8,\n",
    "    \"ytick.labelsize\": 8\n",
    "}\n",
    "\n",
    "plt.rcParams.update(tex_fonts)"
   ]
  },
  {
   "cell_type": "code",
   "execution_count": 2,
   "metadata": {
    "pycharm": {
     "name": "#%%\n"
    }
   },
   "outputs": [],
   "source": [
    "lp_base = os.path.join(base_path, '..', '..', 'data', 'preprocessed_data')\n",
    "\n",
    "#lp = lp_base + 'cikk/HTNet_data_03.hdf5'\n",
    "lp = os.path.join(lp_base, 'HTNet_data', 'HTNet_data.hdf5')\n",
    "\n",
    "subject_ids = ['EC01', 'EC02', 'EC03', 'EC04', 'EC05', 'EC06', 'EC07', 'EC08', 'EC09', 'EC10',\n",
    "                    'EC11', 'EC12']\n",
    "\n",
    "if os.path.isfile(lp):\n",
    "    preprocessed_data = h5py.File(lp, 'r')\n",
    "\n",
    "    train_x = preprocessed_data['train_x']\n",
    "    train_y = preprocessed_data['train_y']\n",
    "    test_x = preprocessed_data['test_x']\n",
    "    test_y = preprocessed_data['test_y']\n",
    "\n",
    "    # calculate SPECTRAL CHANGES for one patient\n",
    "\n",
    "    id = subject_ids[6]\n",
    "    print('subject ' + id)\n",
    "\n",
    "    # get data and labels\n",
    "    X = np.asarray(train_x[id])\n",
    "    X = X[:, :64, :]\n",
    "\n",
    "    # some trials have zeros for all the channels.\n",
    "    bad_trials = np.unique(np.where(X==0)[0])\n",
    "    if not len(bad_trials) == 0:\n",
    "        X = np.delete(X, bad_trials, 0)\n",
    "\n",
    "    X = np.log(X)\n",
    "    y = np.asarray(train_y[id])\n",
    "\n",
    "    # separate rest and movement data\n",
    "    X_rest = [X[tr,:,:] for tr in range(X.shape[0]) if y[tr] == 1]\n",
    "    X_rest = np.asarray(X_rest)\n",
    "\n",
    "    X_move = [X[tr,:,:] for tr in range(X.shape[0]) if y[tr] == 2]\n",
    "    X_move = np.asarray(X_move)\n",
    "\n",
    "    # calculate mean\n",
    "    X_rest_mean = np.mean(X_rest, axis=0)\n",
    "    X_move_mean = np.mean(X_move, axis=0)\n",
    "\n",
    "    if not os.path.exists('suppl_data'):\n",
    "        os.makedirs('suppl_data')\n",
    "    np.save(os.path.join('suppl_data', 'X_rest_mean.npy'), X_rest_mean)\n",
    "    np.save(os.path.join('suppl_data', 'X_move_mean.npy'), X_move_mean)\n",
    "else:\n",
    "    X_rest_mean = np.load(os.path.join('suppl_data', 'X_rest_mean.npy'))\n",
    "    X_move_mean = np.load(os.path.join('suppl_data', 'X_move_mean.npy'))\n",
    "\n",
    "# plot results\n",
    "nrow = 8\n",
    "ncol = 8"
   ]
  },
  {
   "cell_type": "code",
   "execution_count": 3,
   "metadata": {
    "pycharm": {
     "name": "#%%#%% PLOT SINGE W SEABORN\n"
    }
   },
   "outputs": [
    {
     "data": {
      "image/png": "[encoded data removed]",
      "text/plain": [
       "<Figure size 378x233.617 with 1 Axes>"
      ]
     },
     "metadata": {
      "needs_background": "light"
     },
     "output_type": "display_data"
    }
   ],
   "source": [
    "FIG_SIZE = (5.25, 3.2446784409369482)\n",
    "\n",
    "sns.set_palette(sns.color_palette())\n",
    "\n",
    "# create pd dataframe from np arrays\n",
    "length = len(X_rest_mean[18, :])\n",
    "\n",
    "ecog_rest = np.column_stack((np.arange(length), X_rest_mean[18, :], ['rest']*length))\n",
    "ecog_move = np.column_stack((np.arange(length), X_move_mean[18, :], ['move']*length))\n",
    "ecog = pd.DataFrame(np.concatenate((ecog_rest, ecog_move), 0),\n",
    "                    columns = ['Frequency (Hz)', 'Log Power', 'event']\n",
    "                    )\n",
    "ecog['Frequency (Hz)'] = ecog['Frequency (Hz)'].astype(int)\n",
    "ecog['Log Power'] = ecog['Log Power'].astype(X_rest_mean[18, 0].dtype)\n",
    "ecog.sort_values('Frequency (Hz)', inplace=True)\n",
    "\n",
    "# set background colors\n",
    "arr = np.ones(len(ecog))\n",
    "ecog['background'] = arr\n",
    "for index, row in ecog.iterrows():\n",
    "    if 7 <= row['Frequency (Hz)'] <= 15:\n",
    "        ecog.at[index,'background'] = 0\n",
    "    if 76 <= row['Frequency (Hz)'] <= 101:\n",
    "        ecog.at[index,'background'] = 2\n",
    "ecog['background'] = ecog['background'].astype(int).astype(str).map(lambda x: 'C'+x)\n",
    "\n",
    "# plot lines\n",
    "fig = plt.figure()\n",
    "fig.set_size_inches(FIG_SIZE)\n",
    "\n",
    "sns.set_style(\"ticks\")\n",
    "a = sns.color_palette()\n",
    "a[1] = a[3]\n",
    "sns.set_palette(a)\n",
    "fig = sns.lineplot(data=ecog, x=\"Frequency (Hz)\", y='Log Power', hue='event', linewidth = 3.5)\n",
    "sns.set_palette(sns.color_palette())\n",
    "sns.despine()\n",
    "fig.set(yticklabels=[])\n",
    "\n",
    "# plot backgrounds\n",
    "ranges = ecog.groupby('background')['Frequency (Hz)'].agg(['min', 'max'])\n",
    "ranges = ranges.drop(index='C1')\n",
    "\n",
    "labels = {'C0':'LFB', 'C2':'HFB'}\n",
    "colors = {'C0':'green', 'C2':'orange'}\n",
    "\n",
    "for i, row in ranges.iterrows():\n",
    "    fig.axvspan(xmin=row['min'], xmax=row['max'], facecolor=colors[i], alpha=0.3, label=labels[i])\n",
    "\n",
    "fig.legend()\n",
    "\n",
    "plt.savefig(os.path.join('figs', 'single_spect.png'))"
   ]
  }
 ],
 "metadata": {
  "kernelspec": {
   "display_name": "Python 3 (ipykernel)",
   "language": "python",
   "name": "python3"
  },
  "language_info": {
   "codemirror_mode": {
    "name": "ipython",
    "version": 3
   },
   "file_extension": ".py",
   "mimetype": "text/x-python",
   "name": "python",
   "nbconvert_exporter": "python",
   "pygments_lexer": "ipython3",
   "version": "3.8.12"
  }
 },
 "nbformat": 4,
 "nbformat_minor": 1
}
