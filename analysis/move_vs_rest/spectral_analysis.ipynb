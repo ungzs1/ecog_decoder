{
 "cells": [
  {
   "cell_type": "code",
   "execution_count": 1,
   "metadata": {},
   "outputs": [],
   "source": [
    "import h5py\n",
    "import numpy as np\n",
    "import matplotlib.pyplot as plt\n",
    "import os\n",
    "import pandas as pd\n",
    "import seaborn as sns\n",
    "\n",
    "base_path = os.getcwd()\n",
    "\n",
    "#plt.rcParams.update({'font.size': 10, 'font.family':'Times New Roman'})\n",
    "\n",
    "#plt.style.use('seaborn')\n",
    "\n",
    "tex_fonts = {\n",
    "    # Use LaTeX to write all text\n",
    "    \"text.usetex\": False,\n",
    "    \"font.family\": 'Times New Roman',\n",
    "    # Use 10pt font in plots, to match 10pt font in document\n",
    "    \"axes.labelsize\": 10,\n",
    "    \"font.size\": 10,\n",
    "    # Make the legend/label fonts a little smaller\n",
    "    \"legend.fontsize\": 8,\n",
    "    \"xtick.labelsize\": 8,\n",
    "    \"ytick.labelsize\": 8\n",
    "}\n",
    "\n",
    "plt.rcParams.update(tex_fonts)"
   ]
  },
  {
   "cell_type": "code",
   "execution_count": 2,
   "metadata": {
    "pycharm": {
     "name": "#%%\n"
    }
   },
   "outputs": [
    {
     "name": "stdout",
     "output_type": "stream",
     "text": [
      "subject EC07\n"
     ]
    }
   ],
   "source": [
    "lp_base = os.path.join(base_path, '..', '..', 'data', 'preprocessed_data')\n",
    "\n",
    "#lp = lp_base + 'cikk/HTNet_data_03.hdf5'\n",
    "lp = os.path.join(lp_base, 'HTNet_data', 'HTNet_data.hdf5')\n",
    "\n",
    "subject_ids = ['EC01', 'EC02', 'EC03', 'EC04', 'EC05', 'EC06', 'EC07', 'EC08', 'EC09', 'EC10',\n",
    "                    'EC11', 'EC12']\n",
    "\n",
    "if os.path.isfile(lp):\n",
    "    preprocessed_data = h5py.File(lp, 'r')\n",
    "\n",
    "    train_x = preprocessed_data['train_x']\n",
    "    train_y = preprocessed_data['train_y']\n",
    "    test_x = preprocessed_data['test_x']\n",
    "    test_y = preprocessed_data['test_y']\n",
    "\n",
    "    # calculate SPECTRAL CHANGES for one patient\n",
    "\n",
    "    id = subject_ids[6]\n",
    "    print('subject ' + id)\n",
    "\n",
    "    # get data and labels\n",
    "    X = np.asarray(train_x[id])\n",
    "    X = X[:, :64, :]\n",
    "\n",
    "    # some trials have zeros for all the channels.\n",
    "    bad_trials = np.unique(np.where(X==0)[0])\n",
    "    if not len(bad_trials) == 0:\n",
    "        X = np.delete(X, bad_trials, 0)\n",
    "\n",
    "    X = np.log(X)\n",
    "    y = np.asarray(train_y[id])\n",
    "\n",
    "    # separate rest and movement data\n",
    "    X_rest = [X[tr,:,:] for tr in range(X.shape[0]) if y[tr] == 1]\n",
    "    X_rest = np.asarray(X_rest)\n",
    "\n",
    "    X_move = [X[tr,:,:] for tr in range(X.shape[0]) if y[tr] == 2]\n",
    "    X_move = np.asarray(X_move)\n",
    "\n",
    "    # calculate mean\n",
    "    X_rest_mean = np.mean(X_rest, axis=0)\n",
    "    X_move_mean = np.mean(X_move, axis=0)\n",
    "\n",
    "    if not os.path.exists('suppl_data'):\n",
    "        os.makedirs('suppl_data')\n",
    "    np.save(os.path.join('suppl_data', 'X_rest_mean.npy'), X_rest_mean)\n",
    "    np.save(os.path.join('suppl_data', 'X_move_mean.npy'), X_move_mean)\n",
    "else:\n",
    "    X_rest_mean = np.load(os.path.join('suppl_data', 'X_rest_mean.npy'))\n",
    "    X_move_mean = np.load(os.path.join('suppl_data', 'X_move_mean.npy'))\n",
    "\n",
    "# plot results\n",
    "nrow = 8\n",
    "ncol = 8"
   ]
  },
  {
   "cell_type": "code",
   "execution_count": 3,
   "metadata": {
    "pycharm": {
     "name": "#%% PLOT ALL\n"
    }
   },
   "outputs": [
    {
     "data": {
      "text/plain": [
       "\"print('subject ' + id)\\n\\nfig, axs = plt.subplots(nrows=nrow, ncols=ncol, figsize=(15,10))\\n# fig.patch.set_facecolor('white')\\n\\nfor i, ax in enumerate(fig.axes):\\n    print(i)\\n    diff = X_move_mean[i, :] - X_rest_mean[i, :]\\n    ax.plot(X_move_mean[i, :], color='b')\\n    ax.plot(X_rest_mean[i, :], color='r')\\n    #ax.set_ylim([-1,1])\\n    ax.set_yticks([])\\n    ax.set_xticks([])\\n    plt.savefig('figs/all_spect.png')\""
      ]
     },
     "execution_count": 3,
     "metadata": {},
     "output_type": "execute_result"
    }
   ],
   "source": [
    "'''print('subject ' + id)\n",
    "\n",
    "fig, axs = plt.subplots(nrows=nrow, ncols=ncol, figsize=(15,10))\n",
    "# fig.patch.set_facecolor('white')\n",
    "\n",
    "for i, ax in enumerate(fig.axes):\n",
    "    print(i)\n",
    "    diff = X_move_mean[i, :] - X_rest_mean[i, :]\n",
    "    ax.plot(X_move_mean[i, :], color='b')\n",
    "    ax.plot(X_rest_mean[i, :], color='r')\n",
    "    #ax.set_ylim([-1,1])\n",
    "    ax.set_yticks([])\n",
    "    ax.set_xticks([])\n",
    "    plt.savefig('figs/all_spect.png')'''"
   ]
  },
  {
   "cell_type": "code",
   "execution_count": 4,
   "metadata": {
    "pycharm": {
     "name": "#%% PLOT SINGLE\n"
    }
   },
   "outputs": [
    {
     "data": {
      "text/plain": [
       "\"fig = plt.figure(figsize=(5,5))\\nfig.patch.set_facecolor('white')\\n\\nplt.plot(X_rest_mean[18, :], color='r', label='Rest')\\nplt.plot(X_move_mean[18, :], color='b', label='Movement')\\nplt.grid()\\nplt.xlabel('Frequency (Hz)')\\nplt.ylabel('Log Power')\\nplt.gca().axes.yaxis.set_ticklabels([])  # to hide y values (meaningless in this case)\\nplt.legend()\\n\\n#plt.savefig('figs/single_spect.png')\""
      ]
     },
     "execution_count": 4,
     "metadata": {},
     "output_type": "execute_result"
    }
   ],
   "source": [
    "'''fig = plt.figure(figsize=(5,5))\n",
    "fig.patch.set_facecolor('white')\n",
    "\n",
    "plt.plot(X_rest_mean[18, :], color='r', label='Rest')\n",
    "plt.plot(X_move_mean[18, :], color='b', label='Movement')\n",
    "plt.grid()\n",
    "plt.xlabel('Frequency (Hz)')\n",
    "plt.ylabel('Log Power')\n",
    "plt.gca().axes.yaxis.set_ticklabels([])  # to hide y values (meaningless in this case)\n",
    "plt.legend()\n",
    "\n",
    "#plt.savefig('figs/single_spect.png')'''"
   ]
  },
  {
   "cell_type": "code",
   "execution_count": 5,
   "metadata": {
    "pycharm": {
     "name": "#%%#%% PLOT SINGE W SEABORN\n"
    }
   },
   "outputs": [
    {
     "data": {
      "text/plain": [
       "\"#%% calculate LFB HFB\\n\\nranges = [range(7, 13), range(10, 14), range(14, 26), range(26, 36), range(36, 70), range(76, 125)]\\n#ranges = [range(0, 13),  range(36, 70), range(76, 125)]\\n\\nrest_averaged = [np.mean(X_rest_mean[:,band], axis=1) for band in ranges]\\nrest_averaged = np.transpose(np.asarray(rest_averaged))\\nmove_averaged = [np.mean(X_move_mean[:,band], axis=1) for band in ranges]\\nmove_averaged = np.transpose(np.asarray(move_averaged))\\n\\ndiff_averaged = np.subtract(rest_averaged, move_averaged)\\n\\nprint('subject ' + id)\\n\\nfig, axs = plt.subplots(nrows=nrow, ncols=ncol, figsize=(15,10))\\nfig.patch.set_facecolor('white')\\n\\nfor i, ax in enumerate(fig.axes):\\n    for r, band in enumerate(ranges):\\n        if np.abs(diff_averaged[i, r]) > 0:\\n            ax.bar(r, diff_averaged[i, r])\\n    ax.set_ylim([-1,1])\\n    ax.set_xlim([-1,len(ranges)])\""
      ]
     },
     "execution_count": 5,
     "metadata": {},
     "output_type": "execute_result"
    },
    {
     "data": {
      "image/png": "[encoded data removed]",
      "text/plain": [
       "<Figure size 378x233.617 with 1 Axes>"
      ]
     },
     "metadata": {
      "needs_background": "light"
     },
     "output_type": "display_data"
    }
   ],
   "source": [
    "FIG_SIZE = (5.25, 3.2446784409369482)\n",
    "\n",
    "sns.set_palette(sns.color_palette())\n",
    "\n",
    "# create pd dataframe from np arrays\n",
    "length = len(X_rest_mean[18, :])\n",
    "\n",
    "ecog_rest = np.column_stack((np.arange(length), X_rest_mean[18, :], ['rest']*length))\n",
    "ecog_move = np.column_stack((np.arange(length), X_move_mean[18, :], ['move']*length))\n",
    "ecog = pd.DataFrame(np.concatenate((ecog_rest, ecog_move), 0),\n",
    "                    columns = ['Frequency (Hz)', 'Log Power', 'event']\n",
    "                    )\n",
    "ecog['Frequency (Hz)'] = ecog['Frequency (Hz)'].astype(int)\n",
    "ecog['Log Power'] = ecog['Log Power'].astype(X_rest_mean[18, 0].dtype)\n",
    "ecog.sort_values('Frequency (Hz)', inplace=True)\n",
    "\n",
    "# set background colors\n",
    "arr = np.ones(len(ecog))\n",
    "ecog['background'] = arr\n",
    "for index, row in ecog.iterrows():\n",
    "    if 7 <= row['Frequency (Hz)'] <= 15:\n",
    "        ecog.at[index,'background'] = 0\n",
    "    if 76 <= row['Frequency (Hz)'] <= 101:\n",
    "        ecog.at[index,'background'] = 2\n",
    "ecog['background'] = ecog['background'].astype(int).astype(str).map(lambda x: 'C'+x)\n",
    "\n",
    "# plot lines\n",
    "fig = plt.figure()\n",
    "fig.set_size_inches(FIG_SIZE)\n",
    "\n",
    "sns.set_style(\"ticks\")\n",
    "a = sns.color_palette()\n",
    "a[1] = a[3]\n",
    "sns.set_palette(a)\n",
    "fig = sns.lineplot(data=ecog, x=\"Frequency (Hz)\", y='Log Power', hue='event', linewidth = 3.5)\n",
    "sns.set_palette(sns.color_palette())\n",
    "sns.despine()\n",
    "fig.set(yticklabels=[])\n",
    "\n",
    "# plot backgrounds\n",
    "ranges = ecog.groupby('background')['Frequency (Hz)'].agg(['min', 'max'])\n",
    "ranges = ranges.drop(index='C1')\n",
    "\n",
    "labels = {'C0':'LFB', 'C2':'HFB'}\n",
    "colors = {'C0':'green', 'C2':'orange'}\n",
    "\n",
    "for i, row in ranges.iterrows():\n",
    "    fig.axvspan(xmin=row['min'], xmax=row['max'], facecolor=colors[i], alpha=0.3, label=labels[i])\n",
    "\n",
    "fig.legend()\n",
    "\n",
    "plt.savefig(os.path.join('figs', 'single_spect.png'))\n",
    "\n",
    "\n",
    "'''#%% calculate LFB HFB\n",
    "\n",
    "ranges = [range(7, 13), range(10, 14), range(14, 26), range(26, 36), range(36, 70), range(76, 125)]\n",
    "#ranges = [range(0, 13),  range(36, 70), range(76, 125)]\n",
    "\n",
    "rest_averaged = [np.mean(X_rest_mean[:,band], axis=1) for band in ranges]\n",
    "rest_averaged = np.transpose(np.asarray(rest_averaged))\n",
    "move_averaged = [np.mean(X_move_mean[:,band], axis=1) for band in ranges]\n",
    "move_averaged = np.transpose(np.asarray(move_averaged))\n",
    "\n",
    "diff_averaged = np.subtract(rest_averaged, move_averaged)\n",
    "\n",
    "print('subject ' + id)\n",
    "\n",
    "fig, axs = plt.subplots(nrows=nrow, ncols=ncol, figsize=(15,10))\n",
    "fig.patch.set_facecolor('white')\n",
    "\n",
    "for i, ax in enumerate(fig.axes):\n",
    "    for r, band in enumerate(ranges):\n",
    "        if np.abs(diff_averaged[i, r]) > 0:\n",
    "            ax.bar(r, diff_averaged[i, r])\n",
    "    ax.set_ylim([-1,1])\n",
    "    ax.set_xlim([-1,len(ranges)])'''"
   ]
  },
  {
   "cell_type": "code",
   "execution_count": 6,
   "metadata": {
    "pycharm": {
     "name": "#%%\n"
    }
   },
   "outputs": [
    {
     "data": {
      "text/plain": [
       "\"def custom_plot(data, title):\\n    fig = plt.figure(figsize=(8,5))\\n    #fig.patch.set_facecolor('white')\\n    plt.imshow(data, vmin = 0, vmax = np.max(data))\\n\\n    ax = plt.gca()\\n\\n    # Major ticks\\n    ax.set_xticks(np.arange(0, 8, 1))\\n    ax.set_yticks(np.arange(0, 8, 1))\\n\\n    # Labels for major ticks\\n    ax.set_xticklabels(np.arange(1, 8+1, 1))\\n    ax.set_yticklabels(np.arange(1, 8+1, 1))\\n\\n    # Minor ticks\\n    ax.set_xticks(np.arange(.5, 8, 1), minor=True)\\n    ax.set_yticks(np.arange(.5, 8, 1), minor=True)\\n\\n    # Gridlines based on minor ticks\\n    ax.grid(which='minor', color='silver', linestyle='--', linewidth=1)\\n    plt.title(title)\\n    plt.colorbar()\\n    plt.show()\\n\\nlfb_diff = diff_averaged[:,0].reshape(8, 8)\\nhfb_diff = diff_averaged[:,-1].reshape(8, 8)\\n\\nprint('subject ' + id)\\n\\ncustom_plot(lfb_diff, 'Low Frequency Band')\\ncustom_plot(np.abs(hfb_diff), 'High Frequency Band')\\n\""
      ]
     },
     "execution_count": 6,
     "metadata": {},
     "output_type": "execute_result"
    }
   ],
   "source": [
    "'''def custom_plot(data, title):\n",
    "    fig = plt.figure(figsize=(8,5))\n",
    "    #fig.patch.set_facecolor('white')\n",
    "    plt.imshow(data, vmin = 0, vmax = np.max(data))\n",
    "\n",
    "    ax = plt.gca()\n",
    "\n",
    "    # Major ticks\n",
    "    ax.set_xticks(np.arange(0, 8, 1))\n",
    "    ax.set_yticks(np.arange(0, 8, 1))\n",
    "\n",
    "    # Labels for major ticks\n",
    "    ax.set_xticklabels(np.arange(1, 8+1, 1))\n",
    "    ax.set_yticklabels(np.arange(1, 8+1, 1))\n",
    "\n",
    "    # Minor ticks\n",
    "    ax.set_xticks(np.arange(.5, 8, 1), minor=True)\n",
    "    ax.set_yticks(np.arange(.5, 8, 1), minor=True)\n",
    "\n",
    "    # Gridlines based on minor ticks\n",
    "    ax.grid(which='minor', color='silver', linestyle='--', linewidth=1)\n",
    "    plt.title(title)\n",
    "    plt.colorbar()\n",
    "    plt.show()\n",
    "\n",
    "lfb_diff = diff_averaged[:,0].reshape(8, 8)\n",
    "hfb_diff = diff_averaged[:,-1].reshape(8, 8)\n",
    "\n",
    "print('subject ' + id)\n",
    "\n",
    "custom_plot(lfb_diff, 'Low Frequency Band')\n",
    "custom_plot(np.abs(hfb_diff), 'High Frequency Band')\n",
    "'''"
   ]
  }
 ],
 "metadata": {
  "kernelspec": {
   "display_name": "Python 3",
   "language": "python",
   "name": "python3"
  },
  "language_info": {
   "codemirror_mode": {
    "name": "ipython",
    "version": 3
   },
   "file_extension": ".py",
   "mimetype": "text/x-python",
   "name": "python",
   "nbconvert_exporter": "python",
   "pygments_lexer": "ipython3",
   "version": "3.8.8"
  }
 },
 "nbformat": 4,
 "nbformat_minor": 1
}
